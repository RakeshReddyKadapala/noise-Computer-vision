{
 "cells": [
  {
   "cell_type": "code",
   "execution_count": null,
   "id": "665b6db5",
   "metadata": {},
   "outputs": [],
   "source": [
    "# m22ai608-Rakesh Reddy kadapala"
   ]
  },
  {
   "cell_type": "code",
   "execution_count": null,
   "id": "85b547a8",
   "metadata": {},
   "outputs": [],
   "source": [
    "#Salt and pepper noise"
   ]
  },
  {
   "cell_type": "code",
   "execution_count": null,
   "id": "3ef7c1d0",
   "metadata": {},
   "outputs": [],
   "source": [
    "#img1"
   ]
  },
  {
   "cell_type": "code",
   "execution_count": 26,
   "id": "e8f38bbf",
   "metadata": {},
   "outputs": [
    {
     "name": "stdout",
     "output_type": "stream",
     "text": [
      "Resized original image saved as C:\\Users\\Admin\\OneDrive\\Desktop\\resized_original.jpg\n",
      "Noisy image saved as C:\\Users\\Admin\\OneDrive\\Desktop\\noisy_image.jpg\n"
     ]
    }
   ],
   "source": [
    "import cv2\n",
    "import numpy as np\n",
    "from skimage import img_as_ubyte\n",
    "\n",
    "# Load original image\n",
    "original_img = cv2.imread('C:\\\\Users\\\\Admin\\\\OneDrive\\\\Desktop\\\\img1.jpg', 0)\n",
    "original_img = original_img / 255\n",
    "\n",
    "# Desired dimensions in centimeters\n",
    "desired_width_cm = 6\n",
    "desired_height_cm = 5\n",
    "\n",
    "# Calculate DPI based on desired dimensions\n",
    "dpi_x = int(original_img.shape[1] / desired_width_cm)\n",
    "dpi_y = int(original_img.shape[0] / desired_height_cm)\n",
    "\n",
    "# Calculate pixel dimensions based on desired DPI\n",
    "desired_width_pixels = int(dpi_x * desired_width_cm)\n",
    "desired_height_pixels = int(dpi_y * desired_height_cm)\n",
    "\n",
    "# Resize the original image to the desired dimensions\n",
    "resized_original_img = cv2.resize(original_img, (desired_width_pixels, desired_height_pixels))\n",
    "\n",
    "# Display the resized original image\n",
    "cv2.imshow('Resized Original Image', resized_original_img)\n",
    "cv2.waitKey(0)\n",
    "cv2.destroyAllWindows()\n",
    "\n",
    "# Create noisy image\n",
    "rows, cols = resized_original_img.shape\n",
    "noisy_img = np.zeros((rows, cols), dtype=np.float32)\n",
    "pepper, salt = 0.1, 0.95\n",
    "\n",
    "for i in range(rows):\n",
    "    for j in range(cols):\n",
    "        r = np.random.random()\n",
    "        noisy_img[i][j] = 0 if r < pepper else 1 if r > salt else resized_original_img[i][j]\n",
    "\n",
    "# Display the noisy image\n",
    "cv2.imshow('Noisy Image', noisy_img)\n",
    "cv2.waitKey(0)\n",
    "cv2.destroyAllWindows()\n",
    "\n",
    "# Save the resized grayscale original image\n",
    "resized_original_path = 'C:\\\\Users\\\\Admin\\\\OneDrive\\\\Desktop\\\\resized_original.jpg'\n",
    "cv2.imwrite(resized_original_path, img_as_ubyte(resized_original_img))\n",
    "\n",
    "print(f'Resized original image saved as {resized_original_path}')\n",
    "\n",
    "# Save the noisy image with desired dimensions\n",
    "noisy_image_path = 'C:\\\\Users\\\\Admin\\\\OneDrive\\\\Desktop\\\\noisy_image.jpg'\n",
    "cv2.imwrite(noisy_image_path, img_as_ubyte(noisy_img))\n",
    "\n",
    "print(f'Noisy image saved as {noisy_image_path}')\n"
   ]
  },
  {
   "cell_type": "code",
   "execution_count": null,
   "id": "882632e0",
   "metadata": {},
   "outputs": [],
   "source": [
    "#img2"
   ]
  },
  {
   "cell_type": "code",
   "execution_count": 28,
   "id": "eeed66d1",
   "metadata": {},
   "outputs": [
    {
     "name": "stdout",
     "output_type": "stream",
     "text": [
      "Resized original image saved as C:\\Users\\Admin\\OneDrive\\Desktop\\resized_original2.jpg\n",
      "Noisy image saved as C:\\Users\\Admin\\OneDrive\\Desktop\\noisy_image2.jpg\n"
     ]
    }
   ],
   "source": [
    "import cv2\n",
    "import numpy as np\n",
    "from skimage import img_as_ubyte\n",
    "\n",
    "# Load original image\n",
    "original_img = cv2.imread('C:\\\\Users\\\\Admin\\\\OneDrive\\\\Desktop\\\\img2.jpg', 0)\n",
    "original_img = original_img / 255\n",
    "\n",
    "# Desired dimensions in centimeters\n",
    "desired_width_cm = 6\n",
    "desired_height_cm = 5\n",
    "\n",
    "# Calculate DPI based on desired dimensions\n",
    "dpi_x = int(original_img.shape[1] / desired_width_cm)\n",
    "dpi_y = int(original_img.shape[0] / desired_height_cm)\n",
    "\n",
    "# Calculate pixel dimensions based on desired DPI\n",
    "desired_width_pixels = int(dpi_x * desired_width_cm)\n",
    "desired_height_pixels = int(dpi_y * desired_height_cm)\n",
    "\n",
    "# Resize the original image to the desired dimensions\n",
    "resized_original_img = cv2.resize(original_img, (desired_width_pixels, desired_height_pixels))\n",
    "\n",
    "# Display the resized original image\n",
    "cv2.imshow('Resized Original Image', resized_original_img)\n",
    "cv2.waitKey(0)\n",
    "cv2.destroyAllWindows()\n",
    "\n",
    "# Create noisy image\n",
    "rows, cols = resized_original_img.shape\n",
    "noisy_img = np.zeros((rows, cols), dtype=np.float32)\n",
    "pepper, salt = 0.1, 0.95\n",
    "\n",
    "for i in range(rows):\n",
    "    for j in range(cols):\n",
    "        r = np.random.random()\n",
    "        noisy_img[i][j] = 0 if r < pepper else 1 if r > salt else resized_original_img[i][j]\n",
    "\n",
    "# Display the noisy image\n",
    "cv2.imshow('Noisy Image', noisy_img)\n",
    "cv2.waitKey(0)\n",
    "cv2.destroyAllWindows()\n",
    "\n",
    "# Save the resized grayscale original image\n",
    "resized_original_path = 'C:\\\\Users\\\\Admin\\\\OneDrive\\\\Desktop\\\\resized_original2.jpg'\n",
    "cv2.imwrite(resized_original_path, img_as_ubyte(resized_original_img))\n",
    "\n",
    "print(f'Resized original image saved as {resized_original_path}')\n",
    "\n",
    "# Save the noisy image with desired dimensions\n",
    "noisy_image_path = 'C:\\\\Users\\\\Admin\\\\OneDrive\\\\Desktop\\\\noisy_image2.jpg'\n",
    "cv2.imwrite(noisy_image_path, img_as_ubyte(noisy_img))\n",
    "\n",
    "print(f'Noisy image saved as {noisy_image_path}')\n"
   ]
  },
  {
   "cell_type": "code",
   "execution_count": null,
   "id": "01730572",
   "metadata": {},
   "outputs": [],
   "source": [
    "#Gaussian noise"
   ]
  },
  {
   "cell_type": "code",
   "execution_count": null,
   "id": "f0806dd5",
   "metadata": {},
   "outputs": [],
   "source": [
    "#img2"
   ]
  },
  {
   "cell_type": "code",
   "execution_count": 10,
   "id": "8bba6a6e",
   "metadata": {},
   "outputs": [
    {
     "data": {
      "image/png": "[encoded data removed]",
      "text/plain": [
       "<Figure size 640x480 with 1 Axes>"
      ]
     },
     "metadata": {},
     "output_type": "display_data"
    }
   ],
   "source": [
    "import cv2\n",
    "import numpy as np\n",
    "import matplotlib.pyplot as plt\n",
    "\n",
    "def display_image(title, image):\n",
    "    cv2.imshow(title, image)\n",
    "    cv2.waitKey(0)\n",
    "    cv2.destroyAllWindows()\n",
    "\n",
    "def save_image(image, filename):\n",
    "    cv2.imwrite(filename, (image * 255).astype(np.uint8))\n",
    "\n",
    "# Load the image\n",
    "image_path = 'C:\\\\Users\\\\Admin\\\\OneDrive\\\\Desktop\\\\img2.jpg'\n",
    "original_image = cv2.imread(image_path, cv2.IMREAD_GRAYSCALE) / 255.0\n",
    "\n",
    "# Display the original image\n",
    "display_image('Original Image', original_image)\n",
    "\n",
    "# Create Gaussian noise\n",
    "rows, cols = original_image.shape\n",
    "mean = 0\n",
    "variance = 0.01\n",
    "std_deviation = np.sqrt(variance)\n",
    "gaussian_noise = np.random.normal(mean, std_deviation, (rows, cols))\n",
    "\n",
    "# Display the Gaussian noise image\n",
    "display_image('Gaussian Noise', gaussian_noise)\n",
    "\n",
    "# Display the probability density function (pdf)\n",
    "plt.hist(gaussian_noise.flatten(), bins=100, density=True)\n",
    "plt.xlabel('Noise Pixel Value')\n",
    "plt.ylabel('Frequency')\n",
    "plt.show()\n",
    "\n",
    "# Add Gaussian noise to the image\n",
    "corrupted_image = original_image + gaussian_noise\n",
    "\n",
    "# Clip the values to the range [0, 1]\n",
    "corrupted_image = np.clip(corrupted_image, 0, 1)\n",
    "\n",
    "# Display the corrupted image\n",
    "display_image('Corrupted Image', corrupted_image)\n",
    "\n",
    "# Save images\n",
    "save_image(original_image, 'original_image.png')\n",
    "save_image(gaussian_noise, 'gaussian_noise.png')\n",
    "save_image(corrupted_image, 'corrupted_image.png')\n"
   ]
  },
  {
   "cell_type": "code",
   "execution_count": 11,
   "id": "0e3b4362",
   "metadata": {},
   "outputs": [],
   "source": [
    "#img1"
   ]
  },
  {
   "cell_type": "code",
   "execution_count": 12,
   "id": "16639f19",
   "metadata": {},
   "outputs": [
    {
     "data": {
      "image/png": "[encoded data removed]",
      "text/plain": [
       "<Figure size 640x480 with 1 Axes>"
      ]
     },
     "metadata": {},
     "output_type": "display_data"
    }
   ],
   "source": [
    "import cv2\n",
    "import numpy as np\n",
    "import matplotlib.pyplot as plt\n",
    "\n",
    "def display_image(title, image):\n",
    "    cv2.imshow(title, image)\n",
    "    cv2.waitKey(0)\n",
    "    cv2.destroyAllWindows()\n",
    "\n",
    "def save_image(image, filename):\n",
    "    cv2.imwrite(filename, (image * 255).astype(np.uint8))\n",
    "\n",
    "# Load the image\n",
    "image_path = 'C:\\\\Users\\\\Admin\\\\OneDrive\\\\Desktop\\\\img1.jpg'\n",
    "original_image = cv2.imread(image_path, cv2.IMREAD_GRAYSCALE) / 255.0\n",
    "\n",
    "# Display the original image\n",
    "display_image('Original Image', original_image)\n",
    "\n",
    "# Create Gaussian noise\n",
    "rows, cols = original_image.shape\n",
    "mean = 0\n",
    "variance = 0.01\n",
    "std_deviation = np.sqrt(variance)\n",
    "gaussian_noise = np.random.normal(mean, std_deviation, (rows, cols))\n",
    "\n",
    "# Display the Gaussian noise image\n",
    "display_image('Gaussian Noise', gaussian_noise)\n",
    "\n",
    "# Display the probability density function (pdf)\n",
    "plt.hist(gaussian_noise.flatten(), bins=100, density=True)\n",
    "plt.xlabel('Noise Pixel Value')\n",
    "plt.ylabel('Frequency')\n",
    "plt.show()\n",
    "\n",
    "# Add Gaussian noise to the image\n",
    "corrupted_image = original_image + gaussian_noise\n",
    "\n",
    "# Clip the values to the range [0, 1]\n",
    "corrupted_image = np.clip(corrupted_image, 0, 1)\n",
    "\n",
    "# Display the corrupted image\n",
    "display_image('Corrupted Image', corrupted_image)\n",
    "\n",
    "# Save images\n",
    "save_image(original_image, 'original_image.png')\n",
    "save_image(gaussian_noise, 'gaussian_noise.png')\n",
    "save_image(corrupted_image, 'corrupted_image.png')\n"
   ]
  },
  {
   "cell_type": "code",
   "execution_count": null,
   "id": "bc19bf79",
   "metadata": {},
   "outputs": [],
   "source": [
    "#remove those noise using any filter and also write the functioning of the filter."
   ]
  },
  {
   "cell_type": "code",
   "execution_count": null,
   "id": "4083dc12",
   "metadata": {},
   "outputs": [],
   "source": [
    "#salt and pepper\n"
   ]
  },
  {
   "cell_type": "code",
   "execution_count": null,
   "id": "7ee3b270",
   "metadata": {},
   "outputs": [],
   "source": [
    "#median-img"
   ]
  },
  {
   "cell_type": "code",
   "execution_count": 27,
   "id": "f722227c",
   "metadata": {},
   "outputs": [],
   "source": [
    "import cv2\n",
    "\n",
    "def remove_salt_and_pepper_noise(image_path, denoised_image_path):\n",
    "    noisy_image = cv2.imread(image_path, cv2.IMREAD_COLOR)\n",
    "    denoised_image = cv2.medianBlur(noisy_image, 5)  # Increased kernel size to 5\n",
    "    \n",
    "    cv2.imwrite(denoised_image_path, denoised_image)\n",
    "\n",
    "# Paths\n",
    "noisy_image_path = 'C:\\\\Users\\\\Admin\\\\OneDrive\\\\Desktop\\\\noisy_image.jpg'\n",
    "denoised_image_path = 'C:\\\\Users\\\\Admin\\\\OneDrive\\\\Desktop\\\\denoised_image.jpg'\n",
    "\n",
    "# Call the function to remove salt and pepper noise\n",
    "remove_salt_and_pepper_noise(noisy_image_path, denoised_image_path)\n"
   ]
  },
  {
   "cell_type": "code",
   "execution_count": null,
   "id": "4710f612",
   "metadata": {},
   "outputs": [],
   "source": [
    "#median-img2"
   ]
  },
  {
   "cell_type": "code",
   "execution_count": 29,
   "id": "cceee62c",
   "metadata": {},
   "outputs": [],
   "source": [
    "import cv2\n",
    "\n",
    "def remove_salt_and_pepper_noise(image_path, denoised_image_path):\n",
    "    noisy_image = cv2.imread(image_path, cv2.IMREAD_COLOR)\n",
    "    denoised_image = cv2.medianBlur(noisy_image, 5)  # Increased kernel size to 5\n",
    "    \n",
    "    cv2.imwrite(denoised_image_path, denoised_image)\n",
    "\n",
    "# Paths\n",
    "noisy_image_path = 'C:\\\\Users\\\\Admin\\\\OneDrive\\\\Desktop\\\\noisy_image2.jpg'\n",
    "denoised_image_path = 'C:\\\\Users\\\\Admin\\\\OneDrive\\\\Desktop\\\\denoised_image2.jpg'\n",
    "\n",
    "# Call the function to remove salt and pepper noise\n",
    "remove_salt_and_pepper_noise(noisy_image_path, denoised_image_path)\n"
   ]
  },
  {
   "cell_type": "code",
   "execution_count": null,
   "id": "3d834f70",
   "metadata": {},
   "outputs": [],
   "source": [
    "#Gaussinan"
   ]
  },
  {
   "cell_type": "code",
   "execution_count": null,
   "id": "73b258fb",
   "metadata": {},
   "outputs": [],
   "source": [
    "#mean filter"
   ]
  },
  {
   "cell_type": "code",
   "execution_count": 31,
   "id": "5472d34d",
   "metadata": {},
   "outputs": [
    {
     "data": {
      "text/plain": [
       "True"
      ]
     },
     "execution_count": 31,
     "metadata": {},
     "output_type": "execute_result"
    }
   ],
   "source": [
    "import cv2\n",
    "\n",
    "# Load the noisy image\n",
    "noisy_image_path = 'C:\\\\Users\\\\Admin\\\\OneDrive\\\\Desktop\\\\Corrupted Image-img1.png'\n",
    "img_noise = cv2.imread(noisy_image_path, cv2.IMREAD_COLOR)\n",
    "\n",
    "# Apply mean filter (average) for denoising\n",
    "m = 5\n",
    "n = 5\n",
    "denoise_mean = cv2.blur(img_noise, (m, n))\n",
    "\n",
    "# Save the denoised image\n",
    "denoised_image_path = 'C:\\\\Users\\\\Admin\\\\OneDrive\\\\Desktop\\\\denoised_image_mean.png'\n",
    "cv2.imwrite(denoised_image_path, denoise_mean)\n"
   ]
  },
  {
   "cell_type": "code",
   "execution_count": null,
   "id": "4397ea54",
   "metadata": {},
   "outputs": [],
   "source": [
    "#mean filter-img2"
   ]
  },
  {
   "cell_type": "code",
   "execution_count": 33,
   "id": "41537298",
   "metadata": {},
   "outputs": [
    {
     "data": {
      "text/plain": [
       "True"
      ]
     },
     "execution_count": 33,
     "metadata": {},
     "output_type": "execute_result"
    }
   ],
   "source": [
    "import cv2\n",
    "\n",
    "# Load the noisy image\n",
    "noisy_image_path = 'C:\\\\Users\\\\Admin\\\\OneDrive\\\\Desktop\\\\Corrupted Image-img2.png'\n",
    "img_noise = cv2.imread(noisy_image_path, cv2.IMREAD_COLOR)\n",
    "\n",
    "# Apply mean filter (average) for denoising\n",
    "m = 5\n",
    "n = 5\n",
    "denoise_mean = cv2.blur(img_noise, (m, n))\n",
    "\n",
    "# Save the denoised image\n",
    "denoised_image_path = 'C:\\\\Users\\\\Admin\\\\OneDrive\\\\Desktop\\\\denoised_image_mean.png'\n",
    "cv2.imwrite(denoised_image_path, denoise_mean)"
   ]
  },
  {
   "cell_type": "code",
   "execution_count": null,
   "id": "11b7d8e7",
   "metadata": {},
   "outputs": [],
   "source": []
  },
  {
   "cell_type": "code",
   "execution_count": null,
   "id": "231e0cac",
   "metadata": {},
   "outputs": [],
   "source": []
  },
  {
   "cell_type": "code",
   "execution_count": null,
   "id": "2c7bcce3",
   "metadata": {},
   "outputs": [],
   "source": []
  }
 ],
 "metadata": {
  "kernelspec": {
   "display_name": "Python 3 (ipykernel)",
   "language": "python",
   "name": "python3"
  },
  "language_info": {
   "codemirror_mode": {
    "name": "ipython",
    "version": 3
   },
   "file_extension": ".py",
   "mimetype": "text/x-python",
   "name": "python",
   "nbconvert_exporter": "python",
   "pygments_lexer": "ipython3",
   "version": "3.9.13"
  }
 },
 "nbformat": 4,
 "nbformat_minor": 5
}
