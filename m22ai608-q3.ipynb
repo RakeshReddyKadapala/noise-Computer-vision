{
 "cells": [
  {
   "cell_type": "code",
   "execution_count": null,
   "id": "b453d0bc",
   "metadata": {},
   "outputs": [],
   "source": [
    "# m22ai608-q2-Rakesh Reddy Kadapala"
   ]
  },
  {
   "cell_type": "code",
   "execution_count": null,
   "id": "2dc02910",
   "metadata": {},
   "outputs": [],
   "source": [
    "#Take the image of a dog and place it on the road in the city image.\n",
    "#Do necessary scaling and apply proper geometric transformations"
   ]
  },
  {
   "cell_type": "code",
   "execution_count": 1,
   "id": "da4ab155",
   "metadata": {
    "collapsed": true
   },
   "outputs": [
    {
     "ename": "RuntimeError",
     "evalue": "module compiled against API version 0xe but this version of numpy is 0xd",
     "output_type": "error",
     "traceback": [
      "\u001b[1;31m---------------------------------------------------------------------------\u001b[0m",
      "\u001b[1;31mRuntimeError\u001b[0m                              Traceback (most recent call last)",
      "\u001b[1;31mRuntimeError\u001b[0m: module compiled against API version 0xe but this version of numpy is 0xd"
     ]
    },
    {
     "ename": "SystemError",
     "evalue": "<built-in function __import__> returned a result with an error set",
     "output_type": "error",
     "traceback": [
      "\u001b[1;31m---------------------------------------------------------------------------\u001b[0m",
      "\u001b[1;31mImportError\u001b[0m                               Traceback (most recent call last)",
      "\u001b[1;31mImportError\u001b[0m: numpy.core.multiarray failed to import",
      "\nThe above exception was the direct cause of the following exception:\n",
      "\u001b[1;31mSystemError\u001b[0m                               Traceback (most recent call last)",
      "\u001b[1;31mSystemError\u001b[0m: <built-in function __import__> returned a result with an error set"
     ]
    },
    {
     "name": "stderr",
     "output_type": "stream",
     "text": [
      "C:\\Users\\Admin\\anaconda3\\lib\\site-packages\\paramiko\\transport.py:219: CryptographyDeprecationWarning: Blowfish has been deprecated\n",
      "  \"class\": algorithms.Blowfish,\n"
     ]
    }
   ],
   "source": [
    "#Libraries\n",
    "from PIL import Image\n",
    "from rembg import remove\n",
    "\n",
    "# Loading img\n",
    "image_path = 'C:\\\\Users\\\\Admin\\\\OneDrive\\\\Desktop\\\\img1.jpg'\n",
    "\n",
    "# Open the image using Pillow\n",
    "img = Image.open(image_path)\n",
    "\n",
    "#rembg to remove the background\n",
    "R = remove(img)\n",
    "\n",
    "# Convert the image to RGB mode\n",
    "R = R.convert('RGB')\n",
    "\n",
    "# Save the resulting image \n",
    "R.save('dog.jpg', 'JPEG')\n"
   ]
  },
  {
   "cell_type": "code",
   "execution_count": 2,
   "id": "e1b6871d",
   "metadata": {},
   "outputs": [],
   "source": [
    "#Removing Bg and making Dog asTransparent \n",
    "\n",
    "# Load the 'dog.jpg' image\n",
    "dog_image_path = 'dog.jpg'\n",
    "dog_image = Image.open(dog_image_path)\n",
    "\n",
    "# Convert the image to RGBA mode (adds an alpha channel for transparency)\n",
    "dog_image = dog_image.convert('RGBA')\n",
    "\n",
    "# Get the pixel data of the image\n",
    "data = dog_image.getdata()\n",
    "\n",
    "# Create a new image with a transparent background\n",
    "new_image_data = []\n",
    "for item in data:\n",
    "    # Check if the pixel is not black (background)\n",
    "    if item[0] != 0 or item[1] != 0 or item[2] != 0:\n",
    "        new_image_data.append(item)\n",
    "    else:\n",
    "        # Make the black background transparent (set alpha channel to 0)\n",
    "        new_image_data.append((0, 0, 0, 0))\n",
    "\n",
    "# Create a new image with the updated data\n",
    "dog_image.putdata(new_image_data)\n",
    "\n",
    "# Save the image with the transparent background\n",
    "dog_image.save('dog_transparent.png', 'PNG')\n"
   ]
  },
  {
   "cell_type": "code",
   "execution_count": 50,
   "id": "f45da43d",
   "metadata": {},
   "outputs": [],
   "source": [
    "\n",
    "# Load the dog image with a transparent background\n",
    "dog_image_path = 'dog_transparent.png'\n",
    "dog_image = Image.open(dog_image_path)\n",
    "\n",
    "# Load the road image\n",
    "road_image_path = 'C:\\\\Users\\\\Admin\\\\OneDrive\\\\Desktop\\\\img2.jpg'\n",
    "road_image = Image.open(road_image_path)\n"
   ]
  },
  {
   "cell_type": "code",
   "execution_count": 51,
   "id": "f57d7e16",
   "metadata": {},
   "outputs": [],
   "source": [
    "# Define the desired dimensions for the dog image on the road image\n",
    "desired_width = 200  # Adjust as needed\n",
    "desired_height = 200  # Adjust as needed\n",
    "\n",
    "# Resize the dog image to the desired dimensions\n",
    "dog_image = dog_image.resize((desired_width, desired_height))\n"
   ]
  },
  {
   "cell_type": "code",
   "execution_count": 52,
   "id": "3b9c5ab3",
   "metadata": {},
   "outputs": [],
   "source": [
    "# Example: Rotate the dog image by 360 degrees\n",
    "dog_image = dog_image.rotate(360)\n"
   ]
  },
  {
   "cell_type": "code",
   "execution_count": 53,
   "id": "254f8fca",
   "metadata": {},
   "outputs": [],
   "source": [
    "# Define the position (x, y) on the road image\n",
    "x_position = 350  # Adjust as needed\n",
    "y_position = 1300  # Adjust as needed\n"
   ]
  },
  {
   "cell_type": "code",
   "execution_count": 54,
   "id": "ab7e5bf7",
   "metadata": {},
   "outputs": [],
   "source": [
    "# Paste the dog image onto the road image at the specified position\n",
    "road_image.paste(dog_image, (x_position, y_position), dog_image)\n"
   ]
  },
  {
   "cell_type": "code",
   "execution_count": 55,
   "id": "c8a7f2e8",
   "metadata": {},
   "outputs": [],
   "source": [
    "# Save the resulting image\n",
    "road_image.save('result_with_dog.png', 'PNG')\n"
   ]
  },
  {
   "cell_type": "code",
   "execution_count": null,
   "id": "0685e909",
   "metadata": {},
   "outputs": [],
   "source": []
  }
 ],
 "metadata": {
  "kernelspec": {
   "display_name": "Python 3 (ipykernel)",
   "language": "python",
   "name": "python3"
  },
  "language_info": {
   "codemirror_mode": {
    "name": "ipython",
    "version": 3
   },
   "file_extension": ".py",
   "mimetype": "text/x-python",
   "name": "python",
   "nbconvert_exporter": "python",
   "pygments_lexer": "ipython3",
   "version": "3.9.13"
  }
 },
 "nbformat": 4,
 "nbformat_minor": 5
}
